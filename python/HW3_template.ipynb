{
  "nbformat": 4,
  "nbformat_minor": 0,
  "metadata": {
    "kernelspec": {
      "display_name": "Python 3",
      "language": "python",
      "name": "python3"
    },
    "language_info": {
      "codemirror_mode": {
        "name": "ipython",
        "version": 3
      },
      "file_extension": ".py",
      "mimetype": "text/x-python",
      "name": "python",
      "nbconvert_exporter": "python",
      "pygments_lexer": "ipython3",
      "version": "3.8.5"
    },
    "colab": {
      "provenance": [],
      "toc_visible": true
    }
  },
  "cells": [
    {
      "cell_type": "markdown",
      "metadata": {
        "id": "RkEoidrMBn6E"
      },
      "source": [
        "# STAT206 HW3 - Winter 2023\n",
        "\n",
        "Name: _INSERT_YOUR_NAME_"
      ]
    },
    {
      "cell_type": "markdown",
      "source": [
        "---\n",
        "# Homework \\#3 instructions\n",
        "\n",
        "**Review lecture notes on Pandas basics and Pandas data analysis before answering the homework questions.**\n",
        "\n",
        "For this homework, use the Python built-in functions, as well as the `numpy`, `scipy`, `pandas`, and `matplotlib` packages to answer the questions.\n",
        "\n",
        "Replace **INSERT_YOUR_ANSWER** with your own code or text answers.\n",
        "\n",
        "Please comment your Python code thoroughly. Please follow the Python coding style guidelines (https://google.github.io/styleguide/pyguide.html or https://www.python.org/dev/peps/pep-0008/).\n",
        "**Partial credit will be deducted for insufficient commenting or poor coding styles.**\n",
        "\n",
        "If you have any question about this homework assignment, please post it on [**Piazza**](http://piazza.com/ucr/winter2023/stat206/home).\n",
        "\n",
        "---\n",
        "\n",
        "## Homework submission guideline\n",
        "\n",
        "- Late submission penalties.  \n",
        "    - Submissions up to 24 hours late will incur a 10% deduction.\n",
        "    - Submissions up to 48 hours late will incur a 20% deduction.\n",
        "    - No submission will be accepted after 2 days past the initial deadline.\n",
        "    - **If you are using your free late days, please state here: INSERT_YOUR_ANSWER**\n",
        "\n",
        "- After you complete all questions, save your `ipynb` file to `FirstnameLastname-SID-HW3.ipynb`. Then print out your answer (Jupyter Menu File->Download as, or Colab Menu File->Print), and save to a `pdf` file `FirstnameLastname-SID-HW3.pdf`.\n",
        "\n",
        "- Submit **BOTH your source `ipynb` file and the printed `pdf` file** to **GradeScope**. You can submit multiple times, you last submission will be graded. For the `pdf` submission, please **tag specific pages** that correspond with each question in the assignment."
      ],
      "metadata": {
        "id": "xw-xU_lT6QNi"
      }
    },
    {
      "cell_type": "code",
      "metadata": {
        "id": "hIgVzP7LCh0u"
      },
      "source": [
        "import numpy as np\n",
        "import pandas as pd\n",
        "import matplotlib.pyplot as plt"
      ],
      "execution_count": null,
      "outputs": []
    },
    {
      "cell_type": "markdown",
      "metadata": {
        "id": "J627UfAdsymT"
      },
      "source": [
        "---\n",
        "# The `nycflights13` datasets\n",
        "\n",
        "The [Python nycflights13](https://pypi.org/project/nycflights13/) data package provides the same data as the [R nycflights13](https://cran.r-project.org/web/packages/nycflights13/index.html) package."
      ]
    },
    {
      "cell_type": "code",
      "metadata": {
        "id": "Sf5Y_sA0sdEN"
      },
      "source": [
        "# install the package\n",
        "!pip install nycflights13"
      ],
      "execution_count": null,
      "outputs": []
    },
    {
      "cell_type": "code",
      "metadata": {
        "id": "AwRg3cbXsVQG"
      },
      "source": [
        "# load the `flights` table\n",
        "from nycflights13 import flights\n",
        "print(type(flights))\n",
        "flights.head()"
      ],
      "execution_count": null,
      "outputs": []
    },
    {
      "cell_type": "code",
      "source": [
        "flights.info()"
      ],
      "metadata": {
        "id": "-3PvtC1l95WO"
      },
      "execution_count": null,
      "outputs": []
    },
    {
      "cell_type": "markdown",
      "source": [
        "---\n",
        "# &diams; Question 1: Data cleaning [10 pts]\n",
        "\n",
        "(a) There are some missing values in the `dep_delay` and `arr_delay` columns. How many flight records have missing values in `dep_delay`? How many flight records have missing value in `arr_delay`?\n",
        "\n",
        "**Hint**: check pandas function `isna()`.\n",
        "\n",
        "The expected answer is 8255 and 9430."
      ],
      "metadata": {
        "id": "iYm1VMeT-F3H"
      }
    },
    {
      "cell_type": "code",
      "source": [
        "# INSERT_YOUR_ANSWER\n"
      ],
      "metadata": {
        "id": "6JPhcN_ttQjF"
      },
      "execution_count": null,
      "outputs": []
    },
    {
      "cell_type": "markdown",
      "source": [
        "---\n",
        "(b) Clean the flights data by removing flight record that contain missing values in either `dep_delay` or `arr_delay` or both, and save the non-canceled flights in a new Padas DataFrame `not_canceled`. How many rows remained in `not_canceled`?\n",
        "\n",
        "**Hint**: check pandas function `dropna()`.\n",
        "\n",
        "The expected answer is 327,346."
      ],
      "metadata": {
        "id": "RwGZOW4Wt7EN"
      }
    },
    {
      "cell_type": "code",
      "source": [
        "# INSERT_YOUR_ANSWER\n"
      ],
      "metadata": {
        "id": "ub41of-ytQri"
      },
      "execution_count": null,
      "outputs": []
    },
    {
      "cell_type": "markdown",
      "source": [
        "---\n",
        "# &diams; Question 2: Data transformation [20 pts]\n",
        "\n",
        "**For this question, use `not_canceled` flights only.**\n",
        "\n",
        "Find the **non-canceled** flights that satisfy each of the following conditions.\n",
        "\n",
        "(a) Flew during the winter months (December, January, February).\n",
        "\n",
        "The resulting DataFrame should contain 77,029 rows."
      ],
      "metadata": {
        "id": "UfBwiluZ-H8l"
      }
    },
    {
      "cell_type": "code",
      "source": [
        "# INSERT_YOUR_ANSWER\n"
      ],
      "metadata": {
        "id": "frnE79_UtRKe"
      },
      "execution_count": null,
      "outputs": []
    },
    {
      "cell_type": "markdown",
      "source": [
        "---\n",
        "(b) Were operated by United Airlines, and had an arrival delay of four or more hours.\n",
        "\n",
        "The resulting DataFrame should contain 252 rows."
      ],
      "metadata": {
        "id": "W2Uabef0v86E"
      }
    },
    {
      "cell_type": "code",
      "source": [
        "# INSERT_YOUR_ANSWER\n"
      ],
      "metadata": {
        "id": "ycWMPGhmtRPZ"
      },
      "execution_count": null,
      "outputs": []
    },
    {
      "cell_type": "markdown",
      "source": [
        "---\n",
        "(c) Departed from LGA, and had an average flight speed greater than 150 mph (miles per hour).\n",
        "\n",
        "The resulting DataFrame should contain 100,922 rows."
      ],
      "metadata": {
        "id": "nb7_N4rOw3ij"
      }
    },
    {
      "cell_type": "code",
      "source": [
        "# INSERT_YOUR_ANSWER\n"
      ],
      "metadata": {
        "id": "YA4D6xx1tRTh"
      },
      "execution_count": null,
      "outputs": []
    },
    {
      "cell_type": "markdown",
      "source": [
        "---\n",
        "(d) Had the longest departure delay in May.\n",
        "\n",
        "The expected answer is flight MQ3744 on May 3 with departure delay of 878 minutes."
      ],
      "metadata": {
        "id": "4IiXCREjw9B8"
      }
    },
    {
      "cell_type": "code",
      "source": [
        "# INSERT_YOUR_ANSWER\n"
      ],
      "metadata": {
        "id": "IbYaG857tRW6"
      },
      "execution_count": null,
      "outputs": []
    },
    {
      "cell_type": "markdown",
      "source": [
        "---\n",
        "# &diams; Question 3: Flight cancellation rate by month [20 pts]\n",
        "\n",
        "**For this question, use the full `flights` table, rather than the `not_canceled` table.**\n",
        "\n",
        "(a) What was the flight cancellation rate in each month? Report your answer in a DataFrame with 12 rows (one row for each month) and four columns (month, the number of flights in the month, the number of canceled flights in the month, and the flight cancellation rate in the month). Sort your DataFrame by the flight cancellation rate.\n",
        "\n",
        "Which month had the highest flight cancellation rate? Which month had the lowest flight cancellation rate?\n",
        "\n",
        "**Hint**:  Check pandas function `isna()`, `groupby()` and `groupby.size()`. You can also use `reset_index()` so the grouped result won't have a hierarchical index. For more information on group-by aggregation, check the Pandas tutorial: https://pandas.pydata.org/docs/user_guide/groupby.html#aggregation\n",
        "\n",
        "The expected answer is: February has the highest cancelation rate of 0.053705; October has the lowset cancellation rate of 0.009381.\n"
      ],
      "metadata": {
        "id": "TrOUzPB9-IEW"
      }
    },
    {
      "cell_type": "code",
      "source": [
        "# INSERT_YOUR_ANSWER\n"
      ],
      "metadata": {
        "id": "VDSPHFpNtRxp"
      },
      "execution_count": null,
      "outputs": []
    },
    {
      "cell_type": "markdown",
      "source": [
        "---\n",
        "(b) Use `matplotlib` or `pandas` plotting function to draw a bar plot to display the monthly cancellation rates."
      ],
      "metadata": {
        "id": "WI8h97wMJhhE"
      }
    },
    {
      "cell_type": "code",
      "source": [
        "# INSERT_YOUR_ANSWER\n"
      ],
      "metadata": {
        "id": "lDSU2gVqJm-j"
      },
      "execution_count": null,
      "outputs": []
    },
    {
      "cell_type": "markdown",
      "source": [
        "---\n",
        "# &diams; Question 4: Summarize flight arrival delays by destination airport [15 pts]\n",
        "\n",
        "**For this question, use `not_canceled` flights only.**\n",
        "\n",
        "Generate a DataFrame, where each row is a unique destination airport. \n",
        "Save your results in a tibble called `not_canceled_per_dest`. The DataFrame should have five columns:\n",
        "\n",
        "- the destination airport,\n",
        "- the total number of non-canceled flights to the destination, \n",
        "- the number of unique carriers that had non-canceled flights to the destination,\n",
        "- the average arrival delays at the destination,\n",
        "- the standard deviation of the arrival delays at the destination.\n",
        "\n",
        "**Hint**: Check pandas group-by aggregation tutorial: https://pandas.pydata.org/docs/user_guide/groupby.html#aggregation.\n",
        "Note that you can use `reset_index()` so the grouped result won't have a hierarchical index. \n",
        "\n",
        "Expected results: The resulting DataFrame is of shape 104 x 5. The first row is `ABQ\t254\t1\t4.381890\t41.981360`\n"
      ],
      "metadata": {
        "id": "B8-rwZD8-ILz"
      }
    },
    {
      "cell_type": "code",
      "source": [
        "# INSERT_YOUR_ANSWER\n"
      ],
      "metadata": {
        "id": "UuudzgeOtSXG"
      },
      "execution_count": null,
      "outputs": []
    },
    {
      "cell_type": "markdown",
      "source": [
        "---\n",
        "# &diams; Question 5: Plan your travel schedule to avoid delays [35 pts]\n",
        "\n",
        "**For this question, use `not_canceled` flights only.**\n",
        "\n",
        "Suppose you plan to travel from New York City to Los Angeles. You are interested in using the historical data in `nycflights13` to figure out a good travel plan.\n",
        "\n",
        "There are three airports in New York City (`JFK`, `LGA`, and `EWR`) and five airports in the Greater Los Angeles area (`LAX`, `LGB`, `SNA`, `BUR`, `ONT`). \n",
        "\n",
        "(a) How many flights departed from one of the three NYC airports and arrived at one of the five LA airports in 2013?\n",
        "\n",
        "How many flights were operated between each pair of NY origin airport and LA destination airport?\n",
        "\n",
        "Which origin and destination airport pair had the largest number of connecting flights?\n",
        "\n",
        "**Hint**: Check pandas function `groupby.size()`.\n",
        "\n",
        "Expected answers: Total 17,869 flights between NYC airports and Los Angeles airports. The JFK-LAX route had the most flights (11,159)."
      ],
      "metadata": {
        "id": "MN28sf0O-ITE"
      }
    },
    {
      "cell_type": "code",
      "source": [
        "# INSERT_YOUR_ANSWER\n"
      ],
      "metadata": {
        "id": "xMnrfLI_tSao"
      },
      "execution_count": null,
      "outputs": []
    },
    {
      "cell_type": "markdown",
      "source": [
        "---\n",
        "(b) How many airline carriers had flights that departed from one of the three NYC airports and arrived at one of the five LA airports in 2013?\n",
        "\n",
        "Which carrier had the largest number of connecting flights between NYC airports and LA airports?\n",
        "\n",
        "**Hint**: Check pandas function `groupby.size()`.\n",
        "\n",
        "Expected answer: UA had the largest number (6582) of connecting flights between NYC airports and LA airports.\n"
      ],
      "metadata": {
        "id": "6TXBUL34X9da"
      }
    },
    {
      "cell_type": "code",
      "source": [
        "# INSERT_YOUR_ANSWER\n"
      ],
      "metadata": {
        "id": "_IvWwDLitSeN"
      },
      "execution_count": null,
      "outputs": []
    },
    {
      "cell_type": "markdown",
      "source": [
        "---\n",
        "(c) Make a summary DataFrame, where each row is an airline carrier that operated on this route, and the columns are the number of non-canceled flights per carrier, the average departure delays per carrier, and the average arrival delays per carrier.\n",
        "\n",
        "Which carrier had the smallest average arrival delays?\n",
        "\n",
        "**Hint**: Check pandas group-by aggregation tutorial: https://pandas.pydata.org/docs/user_guide/groupby.html#aggregation.\n",
        "Note that you can use `reset_index()` so the grouped result won't have a hierarchical index. \n",
        "\n",
        "Expected results: The resulting DataFrame is of shape 5 x 4 . The carrier DL had the smallest average arrival delay of -3.845195."
      ],
      "metadata": {
        "id": "USfZz6YzYhai"
      }
    },
    {
      "cell_type": "code",
      "source": [
        "# INSERT_YOUR_ANSWER\n"
      ],
      "metadata": {
        "id": "C2oUKYrQtShd"
      },
      "execution_count": null,
      "outputs": []
    },
    {
      "cell_type": "markdown",
      "source": [
        "---\n",
        "(d) Suppose you have decided to take the carrier that had the smallest average arrival delays as identified in part (c).\n",
        "Which origin NYC airport and destination LA airport pair had the largest number of flights operated by this carrier?\n",
        "\n",
        "**Hint**: Check pandas function `groupby.size()`.\n",
        "\n",
        "Expected answer: JFK-LAX, 2487 flights."
      ],
      "metadata": {
        "id": "Gy19v3xIYiuI"
      }
    },
    {
      "cell_type": "code",
      "source": [
        "# INSERT_YOUR_ANSWER\n"
      ],
      "metadata": {
        "id": "h0MDEja4tTFv"
      },
      "execution_count": null,
      "outputs": []
    },
    {
      "cell_type": "markdown",
      "source": [
        "---\n",
        "(e) Suppose now you have decided to take the carrier that had the smallest average arrival delays as identified by (c), and take the route (origin and destination airport pair) as identified in part (d). What time of day should you fly out of NYC, if you want to avoid delays as much as possible? \n",
        "\n",
        "To answer this question, make a summary table, where each row is one departure hour (as in the `hour` variable), and the columns are the hour, the number of non-canceled flights per hour, the average departure delays per hour, and the average arrival delays per hour. Here we are restricted to the carrier selected in part (c) and the route identified in part (d).\n",
        "\n",
        "**Hint**: Check pandas group-by aggregation tutorial: https://pandas.pydata.org/docs/user_guide/groupby.html#aggregation.\n",
        "Note that you can use `reset_index()` so the grouped result won't have a hierarchical index. \n",
        "\n",
        "Expected results: The resutling DataFrame is of shape 14 x 4. The first row is `7   321         0.495327        -7.442368`."
      ],
      "metadata": {
        "id": "cHWQDwcLYlrA"
      }
    },
    {
      "cell_type": "code",
      "source": [
        "# INSERT_YOUR_ANSWER\n"
      ],
      "metadata": {
        "id": "QKK8PswWtTJw"
      },
      "execution_count": null,
      "outputs": []
    },
    {
      "cell_type": "markdown",
      "source": [
        "---\n",
        "(f) Use `matplotlib` or `pandas` plotting function to draw a dodged bar plot to display the average departure and arrivale delay per hour, as calculated in part (e)."
      ],
      "metadata": {
        "id": "vOzRYaSFg6jp"
      }
    },
    {
      "cell_type": "code",
      "source": [
        "# INSERT_YOUR_ANSWER\n"
      ],
      "metadata": {
        "id": "WJo3QsoatTNC"
      },
      "execution_count": null,
      "outputs": []
    }
  ]
}