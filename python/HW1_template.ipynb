{
 "cells": [
  {
   "cell_type": "markdown",
   "metadata": {
    "id": "4wcwsreC6Nt1"
   },
   "source": [
    "# STAT206 HW1 - Winter 2023\n",
    "\n",
    "Name: _INSERT_YOUR_NAME_"
   ]
  },
  {
   "cell_type": "markdown",
   "metadata": {
    "id": "xw-xU_lT6QNi"
   },
   "source": [
    "---\n",
    "# Homework \\#1 instructions\n",
    "\n",
    "**Review lecture notes on Python basics before answering the homework questions.**\n",
    "\n",
    "For this homework, do **NOT** use any packages not in the [standard library](https://docs.python.org/3/library/).  Use only built-in Python data types and functions. You should **NOT** use `numpy`, `scipy`, or `pandas`.\n",
    "\n",
    "Replace **INSERT_YOUR_ANSWER** with your own code or text answers.\n",
    "\n",
    "Please comment your Python code thoroughly. Please follow the Python coding style guidelines (https://google.github.io/styleguide/pyguide.html or https://www.python.org/dev/peps/pep-0008/).\n",
    "**Partial credit will be deducted for insufficient commenting or poor coding styles.**\n",
    "\n",
    "If you have any question about this homework assignment, please post it on [**Piazza**](http://piazza.com/ucr/winter2023/stat206/home).\n",
    "\n",
    "---\n",
    "\n",
    "## Homework submission guideline\n",
    "\n",
    "- Late submission penalties.  \n",
    "    - Submissions up to 24 hours late will incur a 10% deduction.\n",
    "    - Submissions up to 48 hours late will incur a 20% deduction.\n",
    "    - No submission will be accepted after 2 days past the initial deadline.\n",
    "    - **If you are using your free late days, please state here: INSERT_YOUR_ANSWER**\n",
    "\n",
    "- After you complete all questions, save your `ipynb` file to `FirstnameLastname-SID-HW1.ipynb`. Then print out your answer (Jupyter Menu File->Download as, or Colab Menu File->Print), and save to a `pdf` file `FirstnameLastname-SID-HW1.pdf`.\n",
    "\n",
    "- Submit **BOTH your source `ipynb` file and the printed `pdf` file** to **GradeScope**. You can submit multiple times, you last submission will be graded. For the `pdf` submission, please **tag specific pages** that correspond with each question in the assignment."
   ]
  },
  {
   "cell_type": "markdown",
   "metadata": {
    "id": "2bWLfyy_Z52u"
   },
   "source": [
    "---\n",
    "# &diams; Question 1: Control Flows [15 pts]\n",
    "\n",
    "(a) Using a `for` loop to print the numbers from 0 to 50 that are divisible by 7 but not by 3.\n",
    "\n",
    "The expected output is:\n",
    "```\n",
    "7\n",
    "14\n",
    "28\n",
    "35\n",
    "49\n",
    "```"
   ]
  },
  {
   "cell_type": "code",
   "execution_count": null,
   "metadata": {
    "id": "xxk4j2IRbbG6"
   },
   "outputs": [],
   "source": [
    "# INSERT_YOUR_ANSWER \n",
    "for x in range(50):\n",
    "    if x % 7 == 0 and x % 3 != 0:\n",
    "        print(x)"
   ]
  },
  {
   "cell_type": "markdown",
   "metadata": {
    "id": "2xoMXu9rbHRi"
   },
   "source": [
    "---\n",
    "(b) Instead of using a `for` loop, use a `while` loop to print the numbers from 0 to 50 that are divisible by 7 but not by 3. "
   ]
  },
  {
   "cell_type": "code",
   "execution_count": null,
   "metadata": {
    "id": "MRDMVAgbZ5XO"
   },
   "outputs": [],
   "source": [
    "# INSERT_YOUR_ANSWER \n"
   ]
  },
  {
   "cell_type": "markdown",
   "metadata": {
    "id": "iEa6gpOYcPIn"
   },
   "source": [
    "---\n",
    "(c) Use a `while` loop to find the first 5 numbers that are divisible by 5, 7 and 11, save them in a list, and then print.\n",
    "\n",
    "**Hint**: store the number found so far in a variable.\n",
    "\n",
    "The expected output is:\n",
    "```\n",
    "[0, 385, 770, 1155, 1540]\n",
    "```"
   ]
  },
  {
   "cell_type": "code",
   "execution_count": null,
   "metadata": {
    "id": "h2YajjoxcWAI"
   },
   "outputs": [],
   "source": [
    "# INSERT_YOUR_ANSWER \n"
   ]
  },
  {
   "cell_type": "markdown",
   "metadata": {
    "id": "9Cq1eFlbVrFR"
   },
   "source": [
    "---\n",
    "# &diams; Question 2: Functions [20 pts]\n",
    "\n",
    "(a) Write a function to assign grades to a student such that\n",
    "```\n",
    "A = [90 - 100]\n",
    "B = [80 - 90)\n",
    "C = [70 - 80)\n",
    "D = [60 - 70)\n",
    "F = [0, 60)\n",
    "```\n",
    "where square brackets indicate inclusive boundaries and parentheses indicate exclusive boundaries. "
   ]
  },
  {
   "cell_type": "code",
   "execution_count": null,
   "metadata": {
    "id": "eD9A_wdme8YW"
   },
   "outputs": [],
   "source": [
    "scores = [ 84,  76,  67,  23,  83,  23,  50, 100,  32,  84,  22,  41,  27,\n",
    "        29,  71,  85,  47,  77,  39,  25,  85,  69,  22,  66, 100,  92,\n",
    "        97,  46,  81,  88,  67,  20,  52,  62,  39,  36,  79,  54,  74,\n",
    "        64,  33,  68,  85,  69,  84,  30,  68, 100,  71,  33,  21,  95,\n",
    "        92,  72,  53,  50,  31,  82,  53,  68,  49,  37,  40,  21,  94,\n",
    "        30,  54,  58,  92,  95,  73,  80,  81,  56,  44,  22,  69,  70,\n",
    "        25,  50,  59,  32,  65,  79,  27,  62,  27,  31,  78,  88,  68,\n",
    "        53,  79,  69,  89,  38,  80,  55,  92,  55]"
   ]
  },
  {
   "cell_type": "code",
   "execution_count": null,
   "metadata": {
    "id": "GXauRIvyfCrY"
   },
   "outputs": [],
   "source": [
    "# INSERT_YOUR_ANSWER \n",
    "def score_to_grade(score):\n",
    "    pass # placeholder - to be deleted"
   ]
  },
  {
   "cell_type": "code",
   "execution_count": null,
   "metadata": {
    "id": "8FvXaGcqf_is"
   },
   "outputs": [],
   "source": [
    "grades = []\n",
    "for score in scores:\n",
    "    grades.append(score_to_grade(score))\n",
    "print(grades)"
   ]
  },
  {
   "cell_type": "markdown",
   "metadata": {
    "id": "BstKW6Y0ggxp"
   },
   "source": [
    "---\n",
    "(b) Suppose the instructor has an attendance policy: studens whose attendance is 10 days or fewer get their grade reduced by one (A to B, B to C, C to D, D to F, and F stays F). \n",
    "\n",
    "Write a new function that take a score and an attendance as an argument and return A, B, C, D, or F as appropriate."
   ]
  },
  {
   "cell_type": "code",
   "execution_count": null,
   "metadata": {
    "id": "qXqZhDlShHzP"
   },
   "outputs": [],
   "source": [
    "attendances = [13,  1, 19, 14, 17, 10,  1,  5, 16,  6, 12, 15,  7, 20,  3,  9,  7,\n",
    "        2, 11,  7, 12,  8, 19, 18, 10, 12,  1,  1, 13,  3, 20,  7, 10, 13,\n",
    "       10,  7,  7,  9,  1, 12,  2, 12,  6, 16, 14,  9,  4, 16, 16,  5, 13,\n",
    "       20, 11, 20,  4, 10, 11, 14,  6,  5,  9, 17, 17,  3, 18, 18, 17,  5,\n",
    "       18, 19, 13,  2,  0, 11, 16,  5, 11,  1,  0,  0,  9, 20,  7, 11, 15,\n",
    "        2,  1, 15, 18, 15, 20, 18, 17, 16,  5, 16, 20,  5, 18,  1]"
   ]
  },
  {
   "cell_type": "code",
   "execution_count": null,
   "metadata": {
    "id": "FIJrghBJhKjn"
   },
   "outputs": [],
   "source": [
    "# INSERT_YOUR_ANSWER \n",
    "def score_and_attendance_to_grade(score, attendance):\n",
    "    pass # placeholder - to be deleted"
   ]
  },
  {
   "cell_type": "code",
   "execution_count": null,
   "metadata": {
    "id": "Lz7q_AFghvt2"
   },
   "outputs": [],
   "source": [
    "grades = []\n",
    "for score, attendance in zip(scores, attendances):\n",
    "    grades.append(score_and_attendance_to_grade(score, attendance))\n",
    "print(grades)"
   ]
  },
  {
   "cell_type": "markdown",
   "metadata": {
    "id": "wpFb61yxe5Dm"
   },
   "source": [
    "---\n",
    "(c) Using the resulting grades from part (b), count the number of students with each grade.\n",
    "\n",
    "**Hint**: use dictionary.\n",
    "\n",
    "The expected output is,\n",
    "```\n",
    "A 8\n",
    "B 11\n",
    "C 13\n",
    "D 16\n",
    "F 52\n",
    "```"
   ]
  },
  {
   "cell_type": "code",
   "execution_count": null,
   "metadata": {
    "id": "QQb4Nvf8iZos"
   },
   "outputs": [],
   "source": [
    "# INSERT_YOUR_ANSWER \n"
   ]
  },
  {
   "cell_type": "markdown",
   "metadata": {
    "id": "u3lEYisBlCPd"
   },
   "source": [
    "---\n",
    "# &diams; Question 3: Prime Numbers [35 pts]\n",
    "\n",
    "Prime numbers: https://en.wikipedia.org/wiki/Prime_number\n",
    "\n",
    "(a) Write a function `is_prime(n)` that returns `True` only if n is prime."
   ]
  },
  {
   "cell_type": "code",
   "execution_count": null,
   "metadata": {
    "id": "0WLZIYGbrb8J"
   },
   "outputs": [],
   "source": [
    "# INSERT_YOUR_ANSWER\n",
    "def is_prime(n):\n",
    "    pass # placeholder - to be deleted"
   ]
  },
  {
   "cell_type": "code",
   "execution_count": null,
   "metadata": {
    "id": "THZrx5YbsBgi"
   },
   "outputs": [],
   "source": [
    "# testing\n",
    "## The expected output: 1 - False; 21 - False; 41 - True\n",
    "print(is_prime(1))\n",
    "print(is_prime(21))\n",
    "print(is_prime(41))"
   ]
  },
  {
   "cell_type": "code",
   "execution_count": null,
   "metadata": {
    "id": "TGgzEQVIs-my"
   },
   "outputs": [],
   "source": [
    "# testing speed\n",
    "%%timeit\n",
    "is_prime(100000)"
   ]
  },
  {
   "cell_type": "markdown",
   "metadata": {
    "id": "_OsO9p4UtrPi"
   },
   "source": [
    "---\n",
    "(b) Note that apart from 2 and 3, all primes are of the form 6k ± 1 (though not all numbers of the form 6k ± 1 are prime of course). Using this, we can improve the computation time approx. by a factor of 3. Write a new function `is_prime_fast(n)` to use this strategy.\n",
    "\n"
   ]
  },
  {
   "cell_type": "code",
   "execution_count": null,
   "metadata": {
    "id": "kciwXJoLsj1i"
   },
   "outputs": [],
   "source": [
    "# INSERT_YOUR_ANSWER\n",
    "def is_prime_fast(n):\n",
    "    pass # placeholder - to be deleted"
   ]
  },
  {
   "cell_type": "code",
   "execution_count": null,
   "metadata": {
    "id": "R3EcpOIZs-Cy"
   },
   "outputs": [],
   "source": [
    "# testing\n",
    "## The expected output: 1 - False; 21 - False; 41 - True\n",
    "print(is_prime(1))\n",
    "print(is_prime(21))\n",
    "print(is_prime(41))"
   ]
  },
  {
   "cell_type": "code",
   "execution_count": null,
   "metadata": {
    "id": "_GpWzc0RtfAq"
   },
   "outputs": [],
   "source": [
    "# testing speed\n",
    "%%timeit\n",
    "is_prime_fast(100000)"
   ]
  },
  {
   "cell_type": "markdown",
   "metadata": {
    "id": "vdaJv_g-t8t6"
   },
   "source": [
    "---\n",
    "(c) Write a function `all_primes(n)` that returns a list of all primes up to n."
   ]
  },
  {
   "cell_type": "code",
   "execution_count": null,
   "metadata": {
    "id": "oMlp350kuHWL"
   },
   "outputs": [],
   "source": [
    "# INSERT_YOUR_ANSWE\n",
    "def all_primes(n):\n",
    "    pass # placeholder - to be deleted"
   ]
  },
  {
   "cell_type": "code",
   "execution_count": null,
   "metadata": {
    "id": "slE3O_ZrueXD"
   },
   "outputs": [],
   "source": [
    "# testing\n",
    "## the expected output is [2, 3, 5, 7, 11, 13, 17, 19, 23, 29, 31, 37, 41, 43, 47, 53, 59]\n",
    "print(all_primes(59))"
   ]
  },
  {
   "cell_type": "markdown",
   "metadata": {
    "id": "mjWwE-qL1jFr"
   },
   "source": [
    "--- \n",
    "(d) Write a function `first_n_primes(n)` that returns the first n primes in a list.\n"
   ]
  },
  {
   "cell_type": "code",
   "execution_count": null,
   "metadata": {
    "id": "_vNFyoIW1t-J"
   },
   "outputs": [],
   "source": [
    "# INSERT_YOUR_ANSWER\n",
    "def first_n_primes(n):\n",
    "    pass # placeholder - to be deleted"
   ]
  },
  {
   "cell_type": "code",
   "execution_count": null,
   "metadata": {
    "id": "rxkwjaix2HCH"
   },
   "outputs": [],
   "source": [
    "# testing\n",
    "## the expected output is [2, 3, 5, 7, 11, 13, 17, 19, 23, 29]\n",
    "print(first_n_primes(10))"
   ]
  },
  {
   "cell_type": "markdown",
   "metadata": {
    "id": "3Wd4D0MXw9li"
   },
   "source": [
    "---\n",
    "(e) Use list comprehension to generate a list with elements i + j with both i and j are prime and 0 < i < j < 15.\n",
    "\n",
    "The expected output is,\n",
    "```\n",
    "[5, 7, 9, 13, 15, 8, 10, 14, 16, 12, 16, 18, 18, 20, 24]\n",
    "```"
   ]
  },
  {
   "cell_type": "code",
   "execution_count": null,
   "metadata": {
    "id": "dNeZgMiKw8NI"
   },
   "outputs": [],
   "source": [
    "# INSERT_YOUR_ANSWER\n"
   ]
  },
  {
   "cell_type": "markdown",
   "metadata": {
    "id": "H8KbiCLf3gjM"
   },
   "source": [
    "---\n",
    "(f) **EXTRA CREDIT [5 pts]** Write the function `all_primes_lamda(n)` that return a list with all prime numbers up to n using three (or less) lines of code. Do not use any functions that you have defined in the previously questions.\n",
    "\n",
    "**Hint**: Use lambda functions and list comprehensions."
   ]
  },
  {
   "cell_type": "code",
   "execution_count": null,
   "metadata": {
    "id": "1s0QLEd23ePQ"
   },
   "outputs": [],
   "source": [
    "# INSERT_YOUR_ANSWER\n",
    "def all_primes_lambda(n):\n",
    "    pass # placeholder - to be deleted"
   ]
  },
  {
   "cell_type": "code",
   "execution_count": null,
   "metadata": {
    "id": "PyQjL3HY560o"
   },
   "outputs": [],
   "source": [
    "# testing\n",
    "## the expected output is [2, 3, 5, 7, 11, 13, 17, 19, 23, 29, 31, 37, 41, 43, 47, 53, 59]\n",
    "print(all_primes_lambda(59))"
   ]
  },
  {
   "cell_type": "markdown",
   "metadata": {
    "id": "ArE_cvSgults"
   },
   "source": [
    "---\n",
    "# &diams; Question 4: Collatz sequences [30 pts]\n",
    "\n",
    "Collatz conjecture: http://en.wikipedia.org/wiki/Collatz_conjecture\n",
    "\n",
    "The following iterative sequence is defined for the set of positive integers:\n",
    "- n → n/2 (n is even)\n",
    "- n → 3n + 1 (n is odd)\n",
    "\n",
    "Using the rule above and starting with 13, we generate the following sequence:\n",
    "\n",
    "13 → 40 → 20 → 10 → 5 → 16 → 8 → 4 → 2 → 1\n",
    "\n",
    "It can be seen that this sequence (starting at 13 and finishing at 1) contains 10 terms. Although it has not been proved yet (Collatz Problem), it is thought that all starting numbers finish at 1.\n",
    "\n",
    "(a) Write a function `collatz_seq(n)` using iteration, save the sequence in a list.\n"
   ]
  },
  {
   "cell_type": "code",
   "execution_count": null,
   "metadata": {
    "id": "5l6RJ_PY3TAa"
   },
   "outputs": [],
   "source": [
    "# INSERT_YOUR_ANSWER\n",
    "def collatz_seq(n):\n",
    "    pass # placeholder - to be deleted"
   ]
  },
  {
   "cell_type": "code",
   "execution_count": null,
   "metadata": {
    "id": "ZzfTIbah3m2o"
   },
   "outputs": [],
   "source": [
    "# testing\n",
    "## the expected output is [13, 40, 20, 10, 5, 16, 8, 4, 2, 1]\n",
    "print(collatz_seq(13))"
   ]
  },
  {
   "cell_type": "markdown",
   "metadata": {
    "id": "R_2V90Y72loE"
   },
   "source": [
    "---\n",
    "(b) Write another function `collatz_seq2(n)` using recursion, save the sequence in a list.\n"
   ]
  },
  {
   "cell_type": "code",
   "execution_count": null,
   "metadata": {
    "id": "QQnlwbo-42gP"
   },
   "outputs": [],
   "source": [
    "# INSERT_YOUR_ANSWER\n",
    "def collatz_seq2(n):\n",
    "    pass # placeholder - to be deleted"
   ]
  },
  {
   "cell_type": "code",
   "execution_count": null,
   "metadata": {
    "id": "ENS_7e0G5NJn"
   },
   "outputs": [],
   "source": [
    "# testing\n",
    "## the expected output is [13, 40, 20, 10, 5, 16, 8, 4, 2, 1]\n",
    "print(collatz_seq2(13))"
   ]
  },
  {
   "cell_type": "markdown",
   "metadata": {
    "id": "duolsc0U223s"
   },
   "source": [
    "---\n",
    "(c) Which starting number, under one million, produces the longest chain? What is the length of the longest chain?\n",
    "\n",
    "NOTE: Once the chain starts the terms are allowed to go above one million.\n",
    "\n",
    "The expected answer is, 837799 produces the longest chain of length 525.\n"
   ]
  },
  {
   "cell_type": "code",
   "execution_count": null,
   "metadata": {
    "id": "wHTfo1gp323l"
   },
   "outputs": [],
   "source": [
    "# INSERT_YOUR_ANSWER\n"
   ]
  }
 ],
 "metadata": {
  "colab": {
   "provenance": [],
   "toc_visible": true
  },
  "kernelspec": {
   "display_name": "Python 3 (ipykernel)",
   "language": "python",
   "name": "python3"
  },
  "language_info": {
   "codemirror_mode": {
    "name": "ipython",
    "version": 3
   },
   "file_extension": ".py",
   "mimetype": "text/x-python",
   "name": "python",
   "nbconvert_exporter": "python",
   "pygments_lexer": "ipython3",
   "version": "3.10.5"
  }
 },
 "nbformat": 4,
 "nbformat_minor": 1
}
