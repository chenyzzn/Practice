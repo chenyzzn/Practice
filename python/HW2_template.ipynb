{
  "nbformat": 4,
  "nbformat_minor": 0,
  "metadata": {
    "colab": {
      "provenance": []
    },
    "kernelspec": {
      "name": "python3",
      "display_name": "Python 3"
    },
    "language_info": {
      "name": "python"
    }
  },
  "cells": [
    {
      "cell_type": "markdown",
      "source": [
        "# STAT206 HW2 - Winter 2023\n",
        "\n",
        "Name: _INSERT_YOUR_NAME_"
      ],
      "metadata": {
        "id": "4wcwsreC6Nt1"
      }
    },
    {
      "cell_type": "markdown",
      "source": [
        "---\n",
        "# Homework \\#2 instructions\n",
        "\n",
        "**Review lecture notes on Numpy basics before answering the homework questions.**\n",
        "\n",
        "For this homework, use the Python built-in functions, as well as the `numpy`, `scipy`, and `matplotlib` packages to answer the questions. **DO NOT** use `pandas`.\n",
        "\n",
        "Replace **INSERT_YOUR_ANSWER** with your own code or text answers.\n",
        "\n",
        "Please comment your Python code thoroughly. Please follow the Python coding style guidelines (https://google.github.io/styleguide/pyguide.html or https://www.python.org/dev/peps/pep-0008/).\n",
        "**Partial credit will be deducted for insufficient commenting or poor coding styles.**\n",
        "\n",
        "If you have any question about this homework assignment, please post it on [**Piazza**](http://piazza.com/ucr/winter2023/stat206/home).\n",
        "\n",
        "---\n",
        "\n",
        "## Homework submission guideline\n",
        "\n",
        "- Late submission penalties.  \n",
        "    - Submissions up to 24 hours late will incur a 10% deduction.\n",
        "    - Submissions up to 48 hours late will incur a 20% deduction.\n",
        "    - No submission will be accepted after 2 days past the initial deadline.\n",
        "    - **If you are using your free late days, please state here: INSERT_YOUR_ANSWER**\n",
        "\n",
        "- After you complete all questions, save your `ipynb` file to `FirstnameLastname-SID-HW2.ipynb`. Then print out your answer (Jupyter Menu File->Download as, or Colab Menu File->Print), and save to a `pdf` file `FirstnameLastname-SID-HW2.pdf`.\n",
        "\n",
        "- Submit **BOTH your source `ipynb` file and the printed `pdf` file** to **GradeScope**. You can submit multiple times, you last submission will be graded. For the `pdf` submission, please **tag specific pages** that correspond with each question in the assignment."
      ],
      "metadata": {
        "id": "xw-xU_lT6QNi"
      }
    },
    {
      "cell_type": "code",
      "source": [
        "import numpy as np\n",
        "import matplotlib.pyplot as plt\n",
        "from scipy import optimize"
      ],
      "metadata": {
        "id": "DQPDr8_pCT0c"
      },
      "execution_count": null,
      "outputs": []
    },
    {
      "cell_type": "markdown",
      "source": [
        "---\n",
        "# &diams; Question 1: Matrix scaling/normalization [20 pts]\n",
        "\n",
        "(a) Create the following 5x4 numpy array, and save it as `x`.\n",
        "```\n",
        "[[1. 0. 0. 0.]\n",
        " [0. 2. 0. 0.]\n",
        " [0. 0. 3. 0.]\n",
        " [0. 0. 0. 4.]\n",
        " [0. 0. 5. 0.]]\n",
        " ```"
      ],
      "metadata": {
        "id": "BudjcTBp0F7z"
      }
    },
    {
      "cell_type": "code",
      "source": [
        "# INSERT_YOUR_ANSWER\n"
      ],
      "metadata": {
        "id": "6rNjbBGV0WVA"
      },
      "execution_count": null,
      "outputs": []
    },
    {
      "cell_type": "markdown",
      "source": [
        "---\n",
        "(b) Scale the matrix by row, so that all rows have mean 0 and standard deviation 1. Save the scaled matrix as `x_scaled`.\n",
        "\n",
        "**Hint**: Substract each row by its mean and then divided by its standard deviation.\n",
        "\n",
        "The expected result is \n",
        "```\n",
        "[[ 1.73205081 -0.57735027 -0.57735027 -0.57735027]\n",
        " [-0.57735027  1.73205081 -0.57735027 -0.57735027]\n",
        " [-0.57735027 -0.57735027  1.73205081 -0.57735027]\n",
        " [-0.57735027 -0.57735027 -0.57735027  1.73205081]\n",
        " [-0.57735027 -0.57735027  1.73205081 -0.57735027]]\n",
        " ```"
      ],
      "metadata": {
        "id": "q-qoMXgX3IMP"
      }
    },
    {
      "cell_type": "code",
      "source": [
        "# INSERT_YOUR_ANSWER\n"
      ],
      "metadata": {
        "id": "QkyKbd2s3RfG"
      },
      "execution_count": null,
      "outputs": []
    },
    {
      "cell_type": "code",
      "source": [
        "# testing\n",
        "print(np.around(x_scaled.mean(axis=1)))\n",
        "print(x_scaled.std(axis=1))"
      ],
      "metadata": {
        "id": "xx3NiX1T5BxU"
      },
      "execution_count": null,
      "outputs": []
    },
    {
      "cell_type": "markdown",
      "source": [
        "---\n",
        "(c) Scale the matrix by column, so that all columns have mean 0 and standard deviation 1. Save the scaled matrix as `x_scaled2`.\n",
        "\n",
        "**Hint**: Substract each column by its mean and then divided by its standard deviation.\n",
        "\n",
        "The expected result is \n",
        "```\n",
        "[[ 2.         -0.5        -0.77702869 -0.5       ]\n",
        " [-0.5         2.         -0.77702869 -0.5       ]\n",
        " [-0.5        -0.5         0.6799001  -0.5       ]\n",
        " [-0.5        -0.5        -0.77702869  2.        ]\n",
        " [-0.5        -0.5         1.65118597 -0.5       ]]\n",
        " ```"
      ],
      "metadata": {
        "id": "aafBgxz-3gZd"
      }
    },
    {
      "cell_type": "code",
      "source": [
        "# INSERT_YOUR_ANSWER\n"
      ],
      "metadata": {
        "id": "ZSunA_uw31r0"
      },
      "execution_count": null,
      "outputs": []
    },
    {
      "cell_type": "code",
      "source": [
        "# testing\n",
        "print(np.around(x_scaled2.mean(axis=0)))\n",
        "print(x_scaled2.std(axis=0))"
      ],
      "metadata": {
        "id": "m4B0kHO15Rki"
      },
      "execution_count": null,
      "outputs": []
    },
    {
      "cell_type": "markdown",
      "source": [
        "---\n",
        "\n",
        "# &diams; Question 2: Plotting the iris data with `matplotlib` [20 pts]\n",
        "\n",
        "Description of the iris dataset: https://archive.ics.uci.edu/ml/datasets/iris\n",
        "\n",
        "First, let's load the iris data as a numpy array `iris`. The four columns are  'sepal_length', 'sepal_width', 'petal_length', and 'petal_width', correspondingly.\n"
      ],
      "metadata": {
        "id": "fnxUoyRC0gGI"
      }
    },
    {
      "cell_type": "code",
      "source": [
        "from sklearn import datasets\n",
        "iris = datasets.load_iris().data\n",
        "print(type(iris))\n",
        "print(iris.shape)"
      ],
      "metadata": {
        "id": "JVPXGg7kT44m"
      },
      "execution_count": null,
      "outputs": []
    },
    {
      "cell_type": "markdown",
      "source": [
        "Use `matplotlib` to plot the following figures.\n",
        "\n",
        "---\n",
        "(a) Draw four boxplots side by side, one for each column in the iris data.\n",
        "\n",
        "Add proper axis labels, a title, etc.\n",
        "\n",
        "Use `xticks` to set the labels as 'sepal_length', 'sepal_width', 'petal_length', and 'petal_width'."
      ],
      "metadata": {
        "id": "ikgyVjC3sYQG"
      }
    },
    {
      "cell_type": "code",
      "source": [
        "# INSERT_YOUR_ANSWER\n"
      ],
      "metadata": {
        "id": "RBCZ1qttT4s4"
      },
      "execution_count": null,
      "outputs": []
    },
    {
      "cell_type": "markdown",
      "source": [
        "---\n",
        "(b) Draw one histogram of every column in the iris data. Display them in a 2-by-2 layout. Set the x-axis labels of the subplot as 'sepal_length', 'sepal_width', 'petal_length', and 'petal_width', correspondingly.\n",
        "\n",
        "**Hint**: Use `matplotlib.pyplot.subplot()`\n"
      ],
      "metadata": {
        "id": "NPzxBtRHuCKc"
      }
    },
    {
      "cell_type": "code",
      "source": [
        "# INSERT_YOUR_ANSWER\n"
      ],
      "metadata": {
        "id": "ZztK05zEXwTQ"
      },
      "execution_count": null,
      "outputs": []
    },
    {
      "cell_type": "markdown",
      "source": [
        "---\n",
        "(c) Suppose we assume that the `sepal_width` variable follows a Normal distribution. Estimate the mean and standard deviation using `np.mean()` and `np.std()`.\n",
        "\n",
        "Plot the estimated normal curve in red color on top of the histogram of `sepal_width`.\n",
        "\n",
        "Add proper axis labels, a title, etc.\n",
        "\n",
        "**Hint**: 1) Use `norm.pdf()` in `scipy.stats.norm`; 2) Plot the density histogram instead of the default frequency histogram."
      ],
      "metadata": {
        "id": "Cn-P0qlRAibn"
      }
    },
    {
      "cell_type": "code",
      "source": [
        "# INSERT_YOUR_ANSWER\n",
        "from scipy.stats import norm\n"
      ],
      "metadata": {
        "id": "-c9BIZgSBHyN"
      },
      "execution_count": null,
      "outputs": []
    },
    {
      "cell_type": "markdown",
      "source": [
        "---\n",
        "# &diams; Question 3: Optimization [20 pts]\n",
        "\n",
        "(a) Use `matplotlib` to plot the function over the interval [-3, 3]. \n",
        "$$f(x) = sin^2(x − 2)e^{−x^2}$$\n",
        "Add proper axis labels, a title, etc.\n",
        "\n",
        "**Hint**: Use `numpy.sin()` and `numpy.exp()`\n",
        "\n",
        "\n"
      ],
      "metadata": {
        "id": "2bWLfyy_Z52u"
      }
    },
    {
      "cell_type": "code",
      "source": [
        "# INSERT_YOUR_ANSWER \n"
      ],
      "metadata": {
        "id": "xxk4j2IRbbG6"
      },
      "execution_count": null,
      "outputs": []
    },
    {
      "cell_type": "markdown",
      "source": [
        "---\n",
        "(b) Find the maximum of the function.\n",
        "\n",
        "**Hint**: 1) Maximizing a function f(x) is equivalent to minimizing -f(x); 2) Use `scipy.optimize.minimize()`.\n",
        "\n",
        "The expected results is 0.21624139\n"
      ],
      "metadata": {
        "id": "2xoMXu9rbHRi"
      }
    },
    {
      "cell_type": "code",
      "source": [
        "# INSERT_YOUR_ANSWER \n"
      ],
      "metadata": {
        "id": "MRDMVAgbZ5XO"
      },
      "execution_count": null,
      "outputs": []
    },
    {
      "cell_type": "markdown",
      "source": [
        "---\n",
        "(c) Draw the function again and highlight the maximal point as a green circle."
      ],
      "metadata": {
        "id": "bxWf-uQ775uS"
      }
    },
    {
      "cell_type": "code",
      "source": [
        "# INSERT_YOUR_ANSWER \n"
      ],
      "metadata": {
        "id": "Q4nvehID8Gez"
      },
      "execution_count": null,
      "outputs": []
    },
    {
      "cell_type": "markdown",
      "source": [
        "---\n",
        "# &diams; Question 4: Simulation of least squares regression [40 pts]\n",
        "\n",
        "(a) Sample generation\n",
        "\n",
        "Write your own code to simulate 100 data points from the following model.\n",
        "\n",
        "$$X \\sim Uniform(A=-2, B=2)$$\n",
        "$$\\epsilon \\sim N(\\mu=0,\\sigma=2)$$\n",
        "$$Y=2+3X+\\epsilon$$\n",
        "\n",
        "**Hint**: Use `numpy.random.uniform()` and `numpy.random.normal()`.\n",
        "\n",
        "Using the random seed of 206 (for both $X$ and $\\epsilon$), you are expected to get the following numpy arrays:\n",
        "\n",
        "`X = [-0.29070303 -0.06043533 ... -0.4816969   0.91843692]`\n",
        "\n",
        "`Y = [3.44303672e-03 -3.59006976e+00 ... 1.80521284e+00  4.29317228e+00]`"
      ],
      "metadata": {
        "id": "9eypUlyKXxnX"
      }
    },
    {
      "cell_type": "code",
      "source": [
        "# INSERT_YOUR_ANSWER\n"
      ],
      "metadata": {
        "id": "wZVHZq8nYkjj"
      },
      "execution_count": null,
      "outputs": []
    },
    {
      "cell_type": "markdown",
      "source": [
        "---\n",
        "(b) Use `matplotlib` to draw a scatter plot of the 100 data points $(x_0, y_0), \\cdots, (x_{100}, y_{100})$. Add the polulation regression line $Y=2+3X$ in red color.\n",
        "\n",
        "Add proper axis labels, a title, etc."
      ],
      "metadata": {
        "id": "kuuIJ36xa2Od"
      }
    },
    {
      "cell_type": "code",
      "source": [
        "# INSERT_YOUR_ANSWER\n"
      ],
      "metadata": {
        "id": "-HDpPOz8azW1"
      },
      "execution_count": null,
      "outputs": []
    },
    {
      "cell_type": "markdown",
      "source": [
        "---\n",
        "(c) Use `scipy.optimize.curve_fit()` to fit a least squares regression $Y = \\beta_0 + \\beta_1 X$ to the simulated data.\n",
        "\n",
        "The expected estimates are $\\hat{\\beta_0}$=1.8914943777278204 and $\\hat{\\beta_1}$=2.87327463881861.\n"
      ],
      "metadata": {
        "id": "WliEVxRJc64J"
      }
    },
    {
      "cell_type": "code",
      "source": [
        "# INSERT_YOUR_ANSWER\n"
      ],
      "metadata": {
        "id": "T7_UXcaLfu36"
      },
      "execution_count": null,
      "outputs": []
    },
    {
      "cell_type": "markdown",
      "source": [
        "---\n",
        "(d) Luckily, we have the analytical solution of the least squares regression $Y = \\beta_0 + \\beta_1 X + \\epsilon$, which is\n",
        "\n",
        "$$ \n",
        "\\begin{aligned}\n",
        " \\hat{\\beta_1} & = \n",
        " \\frac{\\sum_{i=1}^{n} (x_i - \\bar{x})(y_i - \\bar{y})}\n",
        " {\\sum_{i=1}^{n} (x_i - \\bar{x})^2} \\\\\n",
        " \\hat{\\beta_0} & = \\bar{y} - \\hat{\\beta_1} \\bar{x}\n",
        "\\end{aligned} \n",
        "$$\n",
        "\n",
        "Write your own code to calculate $\\hat{\\beta_0}$ and $\\hat{\\beta_1}$ using the above equations. Compare your results with the coefficients calculated by the `scipy.optimize.curve_fit()` function in part (c). Are they the same?\n",
        "\n",
        "The expected results are $\\hat{\\beta_0}$=1.8914943756627591 and $\\hat{\\beta_1}$=2.8732746405232445."
      ],
      "metadata": {
        "id": "5oMbxxuZdEX4"
      }
    },
    {
      "cell_type": "code",
      "source": [
        "# INSERT_YOUR_ANSWER\n"
      ],
      "metadata": {
        "id": "Yn_gtt67ijaw"
      },
      "execution_count": null,
      "outputs": []
    },
    {
      "cell_type": "markdown",
      "source": [
        "---\n",
        "(e) Redraw a scatter plot of the 100 data points $(x_0, y_0), \\cdots, (x_{100}, y_{100})$. Add the polulation regression line $Y=2+3X$ in red color. Add the least squares fitted line, using the coefficients estimated in part (d), in blue color.\n",
        "\n",
        "Add proper axis labels, a title, etc."
      ],
      "metadata": {
        "id": "Fil9wPFqkMKQ"
      }
    },
    {
      "cell_type": "code",
      "source": [
        "# INSERT_YOUR_ANSWER\n"
      ],
      "metadata": {
        "id": "-V5bkCxmk5Pr"
      },
      "execution_count": null,
      "outputs": []
    },
    {
      "cell_type": "markdown",
      "source": [
        "---\n",
        "(f) Recall in part (a), we set the random seed to be 206. \n",
        "This time, without fixing the random seeds, repeat the simulation 10 times and draw the 10 least sqaure regression lines (one for each simulation) on the same plot. Also, add the polulation regression line  $𝑌=2+3𝑋$  in red color. Note that you do not need to draw the individual data points.\n",
        "\n",
        "Add proper axis labels, a title, etc."
      ],
      "metadata": {
        "id": "n1iNPX0nnZ6M"
      }
    },
    {
      "cell_type": "code",
      "source": [
        "# INSERT_YOUR_ANSWER\n"
      ],
      "metadata": {
        "id": "CJWwdgJWn_So"
      },
      "execution_count": null,
      "outputs": []
    }
  ]
}