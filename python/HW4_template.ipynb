{
  "nbformat": 4,
  "nbformat_minor": 0,
  "metadata": {
    "kernelspec": {
      "display_name": "Python 3",
      "language": "python",
      "name": "python3"
    },
    "language_info": {
      "codemirror_mode": {
        "name": "ipython",
        "version": 3
      },
      "file_extension": ".py",
      "mimetype": "text/x-python",
      "name": "python",
      "nbconvert_exporter": "python",
      "pygments_lexer": "ipython3",
      "version": "3.8.5"
    },
    "colab": {
      "provenance": [],
      "toc_visible": true
    }
  },
  "cells": [
    {
      "cell_type": "markdown",
      "metadata": {
        "id": "RkEoidrMBn6E"
      },
      "source": [
        "# STAT206 HW4 - Winter 2023\n",
        "\n",
        "Name: _INSERT_YOUR_NAME_"
      ]
    },
    {
      "cell_type": "markdown",
      "source": [
        "---\n",
        "# Homework \\#4 instructions\n",
        "\n",
        "**Review lecture notes on Pandas basics and Pandas data analysis before answering the homework questions.**\n",
        "\n",
        "For this homework, use the Python built-in functions, as well as the `numpy`, `scipy`, `pandas`, and `matplotlib` packages to answer the questions.\n",
        "\n",
        "Replace **INSERT_YOUR_ANSWER** with your own code or text answers.\n",
        "\n",
        "Please comment your Python code thoroughly. Please follow the Python coding style guidelines (https://google.github.io/styleguide/pyguide.html or https://www.python.org/dev/peps/pep-0008/).\n",
        "**Partial credit will be deducted for insufficient commenting or poor coding styles.**\n",
        "\n",
        "If you have any question about this homework assignment, please post it on [**Piazza**](http://piazza.com/ucr/winter2023/stat206/home).\n",
        "\n",
        "---\n",
        "\n",
        "## Homework submission guideline\n",
        "\n",
        "- Late submission penalties.  \n",
        "    - Submissions up to 24 hours late will incur a 10% deduction.\n",
        "    - Submissions up to 48 hours late will incur a 20% deduction.\n",
        "    - No submission will be accepted after 2 days past the initial deadline.\n",
        "    - **If you are using your free late days, please state here: INSERT_YOUR_ANSWER**\n",
        "\n",
        "- After you complete all questions, save your `ipynb` file to `FirstnameLastname-SID-HW4.ipynb`. Then print out your answer (Jupyter Menu File->Download as, or Colab Menu File->Print), and save to a `pdf` file `FirstnameLastname-SID-HW4.pdf`.\n",
        "\n",
        "- Submit **BOTH your source `ipynb` file and the printed `pdf` file** to **GradeScope**. You can submit multiple times, you last submission will be graded. For the `pdf` submission, please **tag specific pages** that correspond with each question in the assignment."
      ],
      "metadata": {
        "id": "xw-xU_lT6QNi"
      }
    },
    {
      "cell_type": "code",
      "metadata": {
        "id": "hIgVzP7LCh0u"
      },
      "source": [
        "import numpy as np\n",
        "import pandas as pd\n",
        "#import matplotlib.pyplot as plt"
      ],
      "execution_count": null,
      "outputs": []
    },
    {
      "cell_type": "markdown",
      "metadata": {
        "id": "J627UfAdsymT"
      },
      "source": [
        "---\n",
        "# The `nycflights13` datasets\n",
        "\n",
        "The [Python nycflights13](https://pypi.org/project/nycflights13/) data package provides the same data as the [R nycflights13](https://cran.r-project.org/web/packages/nycflights13/index.html) package."
      ]
    },
    {
      "cell_type": "code",
      "metadata": {
        "id": "Sf5Y_sA0sdEN"
      },
      "source": [
        "# install the package\n",
        "!pip install nycflights13"
      ],
      "execution_count": null,
      "outputs": []
    },
    {
      "cell_type": "code",
      "metadata": {
        "id": "AwRg3cbXsVQG"
      },
      "source": [
        "# load the `flights` table\n",
        "from nycflights13 import flights\n",
        "print(type(flights))\n",
        "flights.head()"
      ],
      "execution_count": null,
      "outputs": []
    },
    {
      "cell_type": "code",
      "source": [
        "flights.info()"
      ],
      "metadata": {
        "id": "-3PvtC1l95WO"
      },
      "execution_count": null,
      "outputs": []
    },
    {
      "cell_type": "code",
      "metadata": {
        "id": "opmJKtvmskL9"
      },
      "source": [
        "# load the `weather` table\n",
        "from nycflights13 import weather\n",
        "print(type(weather))\n",
        "weather.head()"
      ],
      "execution_count": null,
      "outputs": []
    },
    {
      "cell_type": "code",
      "source": [
        "weather.info()"
      ],
      "metadata": {
        "id": "ZsrJnpJpmjyE"
      },
      "execution_count": null,
      "outputs": []
    },
    {
      "cell_type": "markdown",
      "metadata": {
        "id": "E9oTFsV2fKU-"
      },
      "source": [
        "---\n",
        "# &diams; Question 1 Predict daily departure delays using weather information [60 pts]\n",
        "\n",
        "Suppose we are interested in using both `flights` and `weather` data to build a regression model to predict flight departure delays using the weather information."
      ]
    },
    {
      "cell_type": "markdown",
      "metadata": {
        "id": "BhGn0rYvfKVE"
      },
      "source": [
        "---\n",
        "\n",
        "(i) The `weather` data contains **hourly** meteorological data for LGA, JFK and EWR.\n",
        "\n",
        "Calculate the **daily** weather information at **LGA** in 2013. Here we only consider the following six weather-related variables: 1) temperature, 2) humidity, 3) wind speed, 4) precipitation, 5) sea level pressure, and 6) visibility.\n",
        "\n",
        "Save your results in a pandas DataFrame called `weather_LGA_daily`. The DataFrame should have nine columns: year, month, day, followed by the six daily average weather variables.\n",
        "\n",
        "Expected results: The resulting table is of shape 364 x 9; the first row should be `2013\t1\t1\t37.227826\t53.883478\t15.410445\t0.00\t1012.622727\t9.956522`.\n",
        "\n",
        "**Hint**: (1) Use the pandas `groupby` and `agg` combination. You can use `reset_index()` so the grouped result won't have a hierarchical index; (2) Check numpy `nanmean()` function."
      ]
    },
    {
      "cell_type": "code",
      "metadata": {
        "id": "4wTdN9FkfKVF"
      },
      "source": [
        "# INSERT_YOUR_ANSWER\n"
      ],
      "execution_count": null,
      "outputs": []
    },
    {
      "cell_type": "markdown",
      "metadata": {
        "id": "8s6TVmY4fKVG"
      },
      "source": [
        "---\n",
        "(ii) The `flights` data contains all 336,776 flights\n",
        "that departed from New York City in 2013. \n",
        "\n",
        "There are some missing values in the flights data set which were caused by canceled flights. We can clean the flights data by removing flight record that has missing values in `dep_delay` or `arr_delay`, and save the non-canceled flights in a new pandas DataFrame `not_canceled`. \n",
        "\n",
        "The resulting `not_canceled` table should have 327,346 rows.\n",
        "\n",
        "**Hint:** Check pandas functions `isna()`, `notna()`, and `dropna()`."
      ]
    },
    {
      "cell_type": "code",
      "source": [
        "# INSERT_YOUR_ANSWER\n"
      ],
      "metadata": {
        "id": "nUvI5W4J6McF"
      },
      "execution_count": null,
      "outputs": []
    },
    {
      "cell_type": "markdown",
      "metadata": {
        "id": "GR2wfNi-gKaB"
      },
      "source": [
        "---\n",
        "(iii) Next, use the `not_canceled` flights data to calculate the **daily** average departure delays at **LGA** in 2013. Save your results as `LGA_delay_daily`. The DataFrame should have four columns: year, month, day,\n",
        "and the daily average departure delay. \n",
        "\n",
        "What is the largest and smallest daily average departure delay?\n",
        "How many days in 2013 has negative daily average departure delays?\n",
        "\n",
        "Expected results: The resulting table is of shape 365 x 4; the first row should be `2013\t1\t1\t3.203390`; the max and min values are 106.210526 and -3.243243; 56 days have negative daily average departure delays."
      ]
    },
    {
      "cell_type": "code",
      "metadata": {
        "id": "N_T2fcJ7fKVH"
      },
      "source": [
        "# INSERT_YOUR_ANSWER\n"
      ],
      "execution_count": null,
      "outputs": []
    },
    {
      "cell_type": "markdown",
      "metadata": {
        "id": "Y6KMz5VwfKVH"
      },
      "source": [
        "---\n",
        "(iv) Now join the two tables `weather_LGA_daily` and `LGA_delay_daily` that you obtained from parts (i) and (iii), save the result as `LGA_delay_weather_daily`. \n",
        "\n",
        "The resulting table should be of shape 364 x 10.\n"
      ]
    },
    {
      "cell_type": "code",
      "metadata": {
        "id": "EX3qrwHFfKVI"
      },
      "source": [
        "# INSERT_YOUR_ANSWER\n"
      ],
      "execution_count": null,
      "outputs": []
    },
    {
      "cell_type": "markdown",
      "metadata": {
        "id": "5ZKXN6ZCfKVJ"
      },
      "source": [
        "---\n",
        "\n",
        "(v) Use the sklearn `model_selection.train_test_split()` function to separate the `LGA_delay_weather_daily` data 70/30 into a training set and a testing set. Use random seed 206."
      ]
    },
    {
      "cell_type": "code",
      "metadata": {
        "id": "ZbyG3hb3fKVJ"
      },
      "source": [
        "# INSERT_YOUR_ANSWER\n"
      ],
      "execution_count": null,
      "outputs": []
    },
    {
      "cell_type": "markdown",
      "metadata": {
        "id": "kdyQ5cFVfKVK"
      },
      "source": [
        "---\n",
        "(vi) Suppose we are interested in applying a multiple linear regression model to to predict the daily average departure delays at LGA, using the following six weather predictors: 1) temperature, 2) humidity, 3) wind speed, 4) precipitation, 5) sea level pressure, and 6) visibility.\n",
        "\n",
        "Fit your model on the training data, and print out the coefficients.\n",
        "\n",
        "Expected results: the coefficients are `[ 1.55083493e-01  2.97484369e-01  3.09784108e-01  1.71880854e+02  -1.51085105e-01 -9.80963451e-01] 142.29623230752145`\n",
        "\n",
        "**Hint:** Check sklearn `linear_model.LinearRegression()` function."
      ]
    },
    {
      "cell_type": "code",
      "metadata": {
        "id": "r-jWi5MrfKVK"
      },
      "source": [
        "# INSERT_YOUR_ANSWER\n"
      ],
      "execution_count": null,
      "outputs": []
    },
    {
      "cell_type": "markdown",
      "metadata": {
        "id": "WLTzfNg_fKVL"
      },
      "source": [
        "---\n",
        "(vii) Calculate the root mean squared error (RMSE) and Rˆ2 metrics on the training data.\n",
        "\n",
        "Expected results: 10.68017531753989 and 0.3382017700023695\n",
        "\n",
        "**Hint:** Check sklearn `metrics` subpackage."
      ]
    },
    {
      "cell_type": "code",
      "metadata": {
        "id": "UJELsNEnfKVL"
      },
      "source": [
        "# INSERT_YOUR_ANSWER\n"
      ],
      "execution_count": null,
      "outputs": []
    },
    {
      "cell_type": "markdown",
      "metadata": {
        "id": "EcSf3BZffKVL"
      },
      "source": [
        "---\n",
        "\n",
        "(viii)  Now apply the trained model on the testing data, and report the RMSE and Rˆ2 metrics.\n",
        "\n",
        "Expected results: 14.31635802661413 and 0.31131710327784845"
      ]
    },
    {
      "cell_type": "code",
      "metadata": {
        "id": "svLatfq9fKVL"
      },
      "source": [
        "# INSERT_YOUR_ANSWER\n"
      ],
      "execution_count": null,
      "outputs": []
    },
    {
      "cell_type": "markdown",
      "source": [
        "---\n",
        "(ix) Calculate the 5-fold cross-validation RMSE and R^2 of your linear regression model.\n",
        "\n",
        "**Hint**: (1) Check the `sklearn.model_selection.cross_val_score()` function; \n",
        "(2) Pay attention to the `scoring` parameter; the predefined scoring metrics are available at https://scikit-learn.org/stable/modules/model_evaluation.html#the-scoring-parameter-defining-model-evaluation-rules\n"
      ],
      "metadata": {
        "id": "x4ixNfSO2JAk"
      }
    },
    {
      "cell_type": "code",
      "source": [
        "# INSERT_YOUR_ANSWER\n"
      ],
      "metadata": {
        "id": "aDA6g_Qz2OGD"
      },
      "execution_count": null,
      "outputs": []
    },
    {
      "cell_type": "markdown",
      "source": [
        "---\n",
        "(x) The performance of the current linear regression model doesn’t look very good. Please propose another regression to predict the the daily average departure delays at LGA. You can use either a different set of predictors, or a completely new regression model.\n",
        "\n",
        "Calculate the 5-fold cross-validation RMSE and R^2 metrics.\n",
        "\n",
        "**Extra credit** will be given to 3 students whose models have the smallest 10-fold cv RMSE values!"
      ],
      "metadata": {
        "id": "8xNxCcVz0YGm"
      }
    },
    {
      "cell_type": "code",
      "source": [
        "# INSERT_YOUR_ANSWER\n"
      ],
      "metadata": {
        "id": "CEkkpIaN0XbH"
      },
      "execution_count": null,
      "outputs": []
    },
    {
      "cell_type": "markdown",
      "source": [
        "---\n",
        "# &diams; Question 2 Classify daily departure delays using weather information [40 pts]\n",
        "\n",
        "From Question 1, we learned that it is challenging to predict daily avearge departure delays using the weather information via a regression model. Therefore, in this question, we attempt to reduce the problem to a classification task.\n",
        "\n",
        "---\n",
        "(i) First, label each day into two status groups: `delayed` if the daily average departure delay is greater than 0; `not-delayed`, otherwise.\n",
        "Add a new column `delay_label` to `LGA_delay_weather_daily` to present this binary label. How many days are labeled as `delayed`? And `not-delayed`?\n",
        "\n",
        "The expected answers are 308 days as `delayed` and 56 days as `not-delayed`.\n",
        "\n",
        "**Hint**: Check the numpy `where()` function."
      ],
      "metadata": {
        "id": "lGJWoP1Soz8t"
      }
    },
    {
      "cell_type": "code",
      "source": [
        "# INSERT_YOUR_ANSWER\n"
      ],
      "metadata": {
        "id": "7owKfsZwrndL"
      },
      "execution_count": null,
      "outputs": []
    },
    {
      "cell_type": "markdown",
      "source": [
        "---\n",
        "(ii) Similarly, use the `sklearn.model_selection.train_test_split()` function to separate the LGA_delay_weather_daily data 70/30 into a training set and a testing set. Use random seed 206."
      ],
      "metadata": {
        "id": "gqSNHjdbtqL6"
      }
    },
    {
      "cell_type": "code",
      "source": [
        "# INSERT_YOUR_ANSWER\n"
      ],
      "metadata": {
        "id": "6UFp33b_wELQ"
      },
      "execution_count": null,
      "outputs": []
    },
    {
      "cell_type": "markdown",
      "source": [
        "---\n",
        "(iii) Then, apply a K-nearest-neighbor model (K=3) to classify the daily average departure delay status at LGA, i.e. `delay_label`, using the six weather predictors: 1) temperature, 2) humidity, 3) wind speed, 4) precipitation, 5) sea level pressure, and 6) visibility.\n",
        "\n",
        "Fit your model on the training data, what is the misclassification error rate (i.e., 1 - accuracy) on the training data?\n",
        "\n",
        "The expected result is 0.10236220472440949."
      ],
      "metadata": {
        "id": "Ssq-F_myHMGm"
      }
    },
    {
      "cell_type": "code",
      "source": [
        "# INSERT_YOUR_ANSWER\n"
      ],
      "metadata": {
        "id": "QhbUoNhkwQiv"
      },
      "execution_count": null,
      "outputs": []
    },
    {
      "cell_type": "markdown",
      "source": [
        "---\n",
        "(iv) What is the misclassification error rate on the test data?\n",
        "\n",
        "The expected result is 0.1636363636363637."
      ],
      "metadata": {
        "id": "3ZgTTvP7HV7O"
      }
    },
    {
      "cell_type": "code",
      "source": [
        "# INSERT_YOUR_ANSWER\n"
      ],
      "metadata": {
        "id": "d4q-A7y7x620"
      },
      "execution_count": null,
      "outputs": []
    },
    {
      "cell_type": "markdown",
      "source": [
        "---\n",
        "(v) Print out the confusion matrix for the classification results on the test data.\n",
        "\n",
        "Calculate the false positive rate (FPR), true positive rate (TPR), and false discovery rate (FDR).\n",
        "\n",
        "**Hint**: check https://en.wikipedia.org/wiki/Confusion_matrix"
      ],
      "metadata": {
        "id": "6QQf6HiUuHsO"
      }
    },
    {
      "cell_type": "code",
      "source": [
        "# INSERT_YOUR_ANSWER\n"
      ],
      "metadata": {
        "id": "uLSunJ3EyHJV"
      },
      "execution_count": null,
      "outputs": []
    },
    {
      "cell_type": "markdown",
      "source": [
        "---\n",
        "(vi) Plot the ROC curve of this KNN classifier.\n",
        "\n",
        "**Hint**: (1) Check the `sklearn.metric.RocCurveDisplay()` function; \n",
        "(2) For more details about the ROC curve, check the wiki page: https://en.wikipedia.org/wiki/Receiver_operating_characteristic"
      ],
      "metadata": {
        "id": "3Kt5r2IguJ0H"
      }
    },
    {
      "cell_type": "code",
      "source": [
        "# INSERT_YOUR_ANSWER\n"
      ],
      "metadata": {
        "id": "m8TPT_ZMzVAn"
      },
      "execution_count": null,
      "outputs": []
    },
    {
      "cell_type": "markdown",
      "source": [
        "---\n",
        "(vii) Calculate the 5-fold cross-validation misclassification rate of your KNN model.\n",
        "\n",
        "**Hint**: Check the `sklearn.model_selection.cross_val_score()` function."
      ],
      "metadata": {
        "id": "2NoDvG1nMigJ"
      }
    },
    {
      "cell_type": "code",
      "source": [
        "# INSERT_YOUR_ANSWER\n"
      ],
      "metadata": {
        "id": "Kof_mQoOyazg"
      },
      "execution_count": null,
      "outputs": []
    },
    {
      "cell_type": "markdown",
      "source": [
        "---\n",
        "(viii) Construct another classifier to predict the binary `delayed`/`not-delayed` status.\n",
        "\n",
        "You can use either a different selection of predictors, or a different classification model. Calculate the 5-fold cross-validation misclassification error rate of your classifier.\n",
        "\n",
        "**Extra credit** will be given will be given to 3 students whose classifiers have the smallest 5-fold cv misclassification error rates!"
      ],
      "metadata": {
        "id": "lSvWy4wxuOXI"
      }
    },
    {
      "cell_type": "code",
      "source": [
        "# INSERT_YOUR_ANSWER"
      ],
      "metadata": {
        "id": "nxdLRVQLuOCw"
      },
      "execution_count": null,
      "outputs": []
    }
  ]
}